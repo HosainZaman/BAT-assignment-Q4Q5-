{
 "cells": [
  {
   "cell_type": "code",
   "execution_count": 1,
   "id": "8dd68dd8",
   "metadata": {},
   "outputs": [],
   "source": [
    "import pandas as pd\n",
    "import matplotlib.pyplot as plt"
   ]
  },
  {
   "cell_type": "code",
   "execution_count": 2,
   "id": "893b5b71",
   "metadata": {},
   "outputs": [
    {
     "data": {
      "text/html": [
       "<div>\n",
       "<style scoped>\n",
       "    .dataframe tbody tr th:only-of-type {\n",
       "        vertical-align: middle;\n",
       "    }\n",
       "\n",
       "    .dataframe tbody tr th {\n",
       "        vertical-align: top;\n",
       "    }\n",
       "\n",
       "    .dataframe thead th {\n",
       "        text-align: right;\n",
       "    }\n",
       "</style>\n",
       "<table border=\"1\" class=\"dataframe\">\n",
       "  <thead>\n",
       "    <tr style=\"text-align: right;\">\n",
       "      <th></th>\n",
       "      <th>erp_id</th>\n",
       "      <th>province_code</th>\n",
       "      <th>lat</th>\n",
       "      <th>long</th>\n",
       "      <th>sales</th>\n",
       "    </tr>\n",
       "  </thead>\n",
       "  <tbody>\n",
       "    <tr>\n",
       "      <th>0</th>\n",
       "      <td>4</td>\n",
       "      <td>QC</td>\n",
       "      <td>45.537593</td>\n",
       "      <td>-73.597075</td>\n",
       "      <td>0.089069</td>\n",
       "    </tr>\n",
       "    <tr>\n",
       "      <th>1</th>\n",
       "      <td>19</td>\n",
       "      <td>QC</td>\n",
       "      <td>45.488636</td>\n",
       "      <td>-73.568175</td>\n",
       "      <td>0.074907</td>\n",
       "    </tr>\n",
       "    <tr>\n",
       "      <th>2</th>\n",
       "      <td>22</td>\n",
       "      <td>QC</td>\n",
       "      <td>48.387871</td>\n",
       "      <td>-68.470686</td>\n",
       "      <td>0.611644</td>\n",
       "    </tr>\n",
       "    <tr>\n",
       "      <th>3</th>\n",
       "      <td>24</td>\n",
       "      <td>QC</td>\n",
       "      <td>46.795660</td>\n",
       "      <td>-71.356166</td>\n",
       "      <td>-0.778827</td>\n",
       "    </tr>\n",
       "    <tr>\n",
       "      <th>4</th>\n",
       "      <td>37</td>\n",
       "      <td>QC</td>\n",
       "      <td>45.510311</td>\n",
       "      <td>-73.570841</td>\n",
       "      <td>0.586588</td>\n",
       "    </tr>\n",
       "  </tbody>\n",
       "</table>\n",
       "</div>"
      ],
      "text/plain": [
       "   erp_id province_code        lat       long     sales\n",
       "0       4            QC  45.537593 -73.597075  0.089069\n",
       "1      19            QC  45.488636 -73.568175  0.074907\n",
       "2      22            QC  48.387871 -68.470686  0.611644\n",
       "3      24            QC  46.795660 -71.356166 -0.778827\n",
       "4      37            QC  45.510311 -73.570841  0.586588"
      ]
     },
     "execution_count": 2,
     "metadata": {},
     "output_type": "execute_result"
    }
   ],
   "source": [
    "df=pd.read_csv(r\"C:\\Users\\Hosain Zaman\\Desktop\\Job\\datascience\\BAT\\retail_locations.csv\")\n",
    "df.head()"
   ]
  },
  {
   "cell_type": "code",
   "execution_count": 3,
   "id": "ed6e72be",
   "metadata": {},
   "outputs": [
    {
     "data": {
      "text/plain": [
       "count    1152.000000\n",
       "mean       -0.006920\n",
       "std         1.487999\n",
       "min       -10.957124\n",
       "25%        -0.715086\n",
       "50%        -0.017408\n",
       "75%         0.738120\n",
       "max         7.788058\n",
       "Name: sales, dtype: float64"
      ]
     },
     "execution_count": 3,
     "metadata": {},
     "output_type": "execute_result"
    }
   ],
   "source": [
    "df['sales'].describe()"
   ]
  },
  {
   "cell_type": "code",
   "execution_count": 4,
   "id": "2a8d6d64",
   "metadata": {},
   "outputs": [
    {
     "data": {
      "text/plain": [
       "2.2141412226368287"
      ]
     },
     "execution_count": 4,
     "metadata": {},
     "output_type": "execute_result"
    }
   ],
   "source": [
    "df['sales'].var()"
   ]
  },
  {
   "cell_type": "markdown",
   "id": "bfcf9fa9",
   "metadata": {},
   "source": [
    "Sales' mean is around zero, -0.007 to be precise. The median is around zero as well (-0.02). The range of the distribution is 18.73 with Min and Max sales -10.95 and 7.78 recpectively. Standard deviation and variance are 1.48 and 2.21 respectively. Therefore, there is a possibility of having outliers close to max and min points."
   ]
  },
  {
   "cell_type": "code",
   "execution_count": 5,
   "id": "970add0a",
   "metadata": {},
   "outputs": [
    {
     "data": {
      "text/plain": [
       "<matplotlib.collections.PathCollection at 0x13abb10>"
      ]
     },
     "execution_count": 5,
     "metadata": {},
     "output_type": "execute_result"
    },
    {
     "data": {
      "image/png": "[encoded data removed]",
      "text/plain": [
       "<Figure size 432x288 with 1 Axes>"
      ]
     },
     "metadata": {
      "needs_background": "light"
     },
     "output_type": "display_data"
    }
   ],
   "source": [
    "plt.scatter(df.iloc[:,0],df['sales'])"
   ]
  },
  {
   "cell_type": "markdown",
   "id": "85cd0da2",
   "metadata": {},
   "source": [
    "Two obvious outliers are noticed around sales value \"-10\". There are few more points up and down the graph which can be taken as outliers too. Specifically, those around -7.5 and +7.5. Apparently, these outliers need to be dealt with, either by replacing with proper values or removing from the data set."
   ]
  },
  {
   "cell_type": "code",
   "execution_count": 6,
   "id": "6dc063b7",
   "metadata": {},
   "outputs": [
    {
     "data": {
      "text/html": [
       "<div>\n",
       "<style scoped>\n",
       "    .dataframe tbody tr th:only-of-type {\n",
       "        vertical-align: middle;\n",
       "    }\n",
       "\n",
       "    .dataframe tbody tr th {\n",
       "        vertical-align: top;\n",
       "    }\n",
       "\n",
       "    .dataframe thead th {\n",
       "        text-align: right;\n",
       "    }\n",
       "</style>\n",
       "<table border=\"1\" class=\"dataframe\">\n",
       "  <thead>\n",
       "    <tr style=\"text-align: right;\">\n",
       "      <th></th>\n",
       "      <th>erp_id</th>\n",
       "      <th>province_code</th>\n",
       "      <th>lat</th>\n",
       "      <th>long</th>\n",
       "      <th>sales</th>\n",
       "    </tr>\n",
       "  </thead>\n",
       "  <tbody>\n",
       "    <tr>\n",
       "      <th>888</th>\n",
       "      <td>5149</td>\n",
       "      <td>QC</td>\n",
       "      <td>45.533537</td>\n",
       "      <td>-73.656232</td>\n",
       "      <td>-10.957124</td>\n",
       "    </tr>\n",
       "    <tr>\n",
       "      <th>953</th>\n",
       "      <td>5543</td>\n",
       "      <td>QC</td>\n",
       "      <td>45.466552</td>\n",
       "      <td>-73.639855</td>\n",
       "      <td>-9.361660</td>\n",
       "    </tr>\n",
       "  </tbody>\n",
       "</table>\n",
       "</div>"
      ],
      "text/plain": [
       "     erp_id province_code        lat       long      sales\n",
       "888    5149            QC  45.533537 -73.656232 -10.957124\n",
       "953    5543            QC  45.466552 -73.639855  -9.361660"
      ]
     },
     "execution_count": 6,
     "metadata": {},
     "output_type": "execute_result"
    }
   ],
   "source": [
    "df[df['sales']<-7.5]"
   ]
  },
  {
   "cell_type": "markdown",
   "id": "1658f26e",
   "metadata": {},
   "source": [
    "The two obvious outliers are identified above."
   ]
  },
  {
   "cell_type": "code",
   "execution_count": 7,
   "id": "8f00cb79",
   "metadata": {},
   "outputs": [
    {
     "data": {
      "text/plain": [
       "<AxesSubplot:>"
      ]
     },
     "execution_count": 7,
     "metadata": {},
     "output_type": "execute_result"
    },
    {
     "data": {
      "image/png": "[encoded data removed]",
      "text/plain": [
       "<Figure size 432x288 with 1 Axes>"
      ]
     },
     "metadata": {
      "needs_background": "light"
     },
     "output_type": "display_data"
    }
   ],
   "source": [
    "df['sales'].hist()"
   ]
  },
  {
   "cell_type": "markdown",
   "id": "652574ae",
   "metadata": {},
   "source": [
    "The distribution is not exactly normal; however, majority of sales fall between -2.5 and 2.5. Moreover, having outliers around -10 removed, there are symmetric tails on both sides. There is no extreme right or left skewness in the distribution; it is skewed to the left a bit in the center though. The shape is almost symmetric."
   ]
  }
 ],
 "metadata": {
  "kernelspec": {
   "display_name": "Python 3",
   "language": "python",
   "name": "python3"
  },
  "language_info": {
   "codemirror_mode": {
    "name": "ipython",
    "version": 3
   },
   "file_extension": ".py",
   "mimetype": "text/x-python",
   "name": "python",
   "nbconvert_exporter": "python",
   "pygments_lexer": "ipython3",
   "version": "3.7.10"
  }
 },
 "nbformat": 4,
 "nbformat_minor": 5
}
